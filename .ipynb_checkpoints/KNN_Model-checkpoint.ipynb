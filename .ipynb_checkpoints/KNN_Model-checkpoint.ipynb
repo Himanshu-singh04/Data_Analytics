{
 "cells": [
  {
   "cell_type": "code",
   "execution_count": 3,
   "id": "f50baad4",
   "metadata": {},
   "outputs": [
    {
     "name": "stdout",
     "output_type": "stream",
     "text": [
      "sepal_length,sepal_width,petal_length,petal_width,species\n",
      "5.1,3.5,1.4,0.2,setosa\n",
      "4.9,3.0,1.4,0.2,setosa\n",
      "4.7,3.2,1.3,0.2,setosa\n",
      "4.6,3.1,1.5,0.2,setosa\n",
      "5.0,3.6,1.4,0.2,setosa\n",
      "5.4,3.9,1.7,0.4,setosa\n",
      "4.6,3.4,1.4,0.3,setosa\n",
      "5.0,3.4,1.5,0.2,setosa\n",
      "4.4,2.9,1.4,0.2,setosa\n",
      "4.9,3.1,1.5,0.1,setosa\n",
      "5.4,3.7,1.5,0.2,setosa\n",
      "4.8,3.4,1.6,0.2,setosa\n",
      "4.8,3.0,1.4,0.1,setosa\n",
      "4.3,3.0,1.1,0.1,setosa\n",
      "5.8,4.0,1.2,0.2,setosa\n",
      "5.7,4.4,1.5,0.4,setosa\n",
      "5.4,3.9,1.3,0.4,setosa\n",
      "5.1,3.5,1.4,0.3,setosa\n",
      "5.7,3.8,1.7,0.3,setosa\n",
      "5.1,3.8,1.5,0.3,setosa\n",
      "5.4,3.4,1.7,0.2,setosa\n",
      "5.1,3.7,1.5,0.4,setosa\n",
      "4.6,3.6,1.0,0.2,setosa\n",
      "5.1,3.3,1.7,0.5,setosa\n",
      "4.8,3.4,1.9,0.2,setosa\n",
      "5.0,3.0,1.6,0.2,setosa\n",
      "5.0,3.4,1.6,0.4,setosa\n",
      "5.2,3.5,1.5,0.2,setosa\n",
      "5.2,3.4,1.4,0.2,setosa\n",
      "4.7,3.2,1.6,0.2,setosa\n",
      "4.8,3.1,1.6,0.2,setosa\n",
      "5.4,3.4,1.5,0.4,setosa\n",
      "5.2,4.1,1.5,0.1,setosa\n",
      "5.5,4.2,1.4,0.2,setosa\n",
      "4.9,3.1,1.5,0.1,setosa\n",
      "5.0,3.2,1.2,0.2,setosa\n",
      "5.5,3.5,1.3,0.2,setosa\n",
      "4.9,3.1,1.5,0.1,setosa\n",
      "4.4,3.0,1.3,0.2,setosa\n",
      "5.1,3.4,1.5,0.2,setosa\n",
      "5.0,3.5,1.3,0.3,setosa\n",
      "4.5,2.3,1.3,0.3,setosa\n",
      "4.4,3.2,1.3,0.2,setosa\n",
      "5.0,3.5,1.6,0.6,setosa\n",
      "5.1,3.8,1.9,0.4,setosa\n",
      "4.8,3.0,1.4,0.3,setosa\n",
      "5.1,3.8,1.6,0.2,setosa\n",
      "4.6,3.2,1.4,0.2,setosa\n",
      "5.3,3.7,1.5,0.2,setosa\n",
      "5.0,3.3,1.4,0.2,setosa\n",
      "7.0,3.2,4.7,1.4,versicolor\n",
      "6.4,3.2,4.5,1.5,versicolor\n",
      "6.9,3.1,4.9,1.5,versicolor\n",
      "5.5,2.3,4.0,1.3,versicolor\n",
      "6.5,2.8,4.6,1.5,versicolor\n",
      "5.7,2.8,4.5,1.3,versicolor\n",
      "6.3,3.3,4.7,1.6,versicolor\n",
      "4.9,2.4,3.3,1.0,versicolor\n",
      "6.6,2.9,4.6,1.3,versicolor\n",
      "5.2,2.7,3.9,1.4,versicolor\n",
      "5.0,2.0,3.5,1.0,versicolor\n",
      "5.9,3.0,4.2,1.5,versicolor\n",
      "6.0,2.2,4.0,1.0,versicolor\n",
      "6.1,2.9,4.7,1.4,versicolor\n",
      "5.6,2.9,3.6,1.3,versicolor\n",
      "6.7,3.1,4.4,1.4,versicolor\n",
      "5.6,3.0,4.5,1.5,versicolor\n",
      "5.8,2.7,4.1,1.0,versicolor\n",
      "6.2,2.2,4.5,1.5,versicolor\n",
      "5.6,2.5,3.9,1.1,versicolor\n",
      "5.9,3.2,4.8,1.8,versicolor\n",
      "6.1,2.8,4.0,1.3,versicolor\n",
      "6.3,2.5,4.9,1.5,versicolor\n",
      "6.1,2.8,4.7,1.2,versicolor\n",
      "6.4,2.9,4.3,1.3,versicolor\n",
      "6.6,3.0,4.4,1.4,versicolor\n",
      "6.8,2.8,4.8,1.4,versicolor\n",
      "6.7,3.0,5.0,1.7,versicolor\n",
      "6.0,2.9,4.5,1.5,versicolor\n",
      "5.7,2.6,3.5,1.0,versicolor\n",
      "5.5,2.4,3.8,1.1,versicolor\n",
      "5.5,2.4,3.7,1.0,versicolor\n",
      "5.8,2.7,3.9,1.2,versicolor\n",
      "6.0,2.7,5.1,1.6,versicolor\n",
      "5.4,3.0,4.5,1.5,versicolor\n",
      "6.0,3.4,4.5,1.6,versicolor\n",
      "6.7,3.1,4.7,1.5,versicolor\n",
      "6.3,2.3,4.4,1.3,versicolor\n",
      "5.6,3.0,4.1,1.3,versicolor\n",
      "5.5,2.5,4.0,1.3,versicolor\n",
      "5.5,2.6,4.4,1.2,versicolor\n",
      "6.1,3.0,4.6,1.4,versicolor\n",
      "5.8,2.6,4.0,1.2,versicolor\n",
      "5.0,2.3,3.3,1.0,versicolor\n",
      "5.6,2.7,4.2,1.3,versicolor\n",
      "5.7,3.0,4.2,1.2,versicolor\n",
      "5.7,2.9,4.2,1.3,versicolor\n",
      "6.2,2.9,4.3,1.3,versicolor\n",
      "5.1,2.5,3.0,1.1,versicolor\n",
      "5.7,2.8,4.1,1.3,versicolor\n",
      "6.3,3.3,6.0,2.5,virginica\n",
      "5.8,2.7,5.1,1.9,virginica\n",
      "7.1,3.0,5.9,2.1,virginica\n",
      "6.3,2.9,5.6,1.8,virginica\n",
      "6.5,3.0,5.8,2.2,virginica\n",
      "7.6,3.0,6.6,2.1,virginica\n",
      "4.9,2.5,4.5,1.7,virginica\n",
      "7.3,2.9,6.3,1.8,virginica\n",
      "6.7,2.5,5.8,1.8,virginica\n",
      "7.2,3.6,6.1,2.5,virginica\n",
      "6.5,3.2,5.1,2.0,virginica\n",
      "6.4,2.7,5.3,1.9,virginica\n",
      "6.8,3.0,5.5,2.1,virginica\n",
      "5.7,2.5,5.0,2.0,virginica\n",
      "5.8,2.8,5.1,2.4,virginica\n",
      "6.4,3.2,5.3,2.3,virginica\n",
      "6.5,3.0,5.5,1.8,virginica\n",
      "7.7,3.8,6.7,2.2,virginica\n",
      "7.7,2.6,6.9,2.3,virginica\n",
      "6.0,2.2,5.0,1.5,virginica\n",
      "6.9,3.2,5.7,2.3,virginica\n",
      "5.6,2.8,4.9,2.0,virginica\n",
      "7.7,2.8,6.7,2.0,virginica\n",
      "6.3,2.7,4.9,1.8,virginica\n",
      "6.7,3.3,5.7,2.1,virginica\n",
      "7.2,3.2,6.0,1.8,virginica\n",
      "6.2,2.8,4.8,1.8,virginica\n",
      "6.1,3.0,4.9,1.8,virginica\n",
      "6.4,2.8,5.6,2.1,virginica\n",
      "7.2,3.0,5.8,1.6,virginica\n",
      "7.4,2.8,6.1,1.9,virginica\n",
      "7.9,3.8,6.4,2.0,virginica\n",
      "6.4,2.8,5.6,2.2,virginica\n",
      "6.3,2.8,5.1,1.5,virginica\n",
      "6.1,2.6,5.6,1.4,virginica\n",
      "7.7,3.0,6.1,2.3,virginica\n",
      "6.3,3.4,5.6,2.4,virginica\n",
      "6.4,3.1,5.5,1.8,virginica\n",
      "6.0,3.0,4.8,1.8,virginica\n",
      "6.9,3.1,5.4,2.1,virginica\n",
      "6.7,3.1,5.6,2.4,virginica\n",
      "6.9,3.1,5.1,2.3,virginica\n",
      "5.8,2.7,5.1,1.9,virginica\n",
      "6.8,3.2,5.9,2.3,virginica\n",
      "6.7,3.3,5.7,2.5,virginica\n",
      "6.7,3.0,5.2,2.3,virginica\n",
      "6.3,2.5,5.0,1.9,virginica\n",
      "6.5,3.0,5.2,2.0,virginica\n",
      "6.2,3.4,5.4,2.3,virginica\n",
      "5.9,3.0,5.1,1.8,virginica\n"
     ]
    }
   ],
   "source": [
    "import csv\n",
    "with open(r'C:\\Users\\Himanshu Singh\\OneDrive\\Desktop\\CODES\\Data Analytics\\iris_data.txt') as csvfile:\n",
    "    lines = csv.reader(csvfile)\n",
    "    for row in lines:\n",
    "        print(','.join(row))"
   ]
  },
  {
   "cell_type": "code",
   "execution_count": 11,
   "id": "f5d4d780",
   "metadata": {},
   "outputs": [],
   "source": [
    "import csv\n",
    "import random\n",
    "def loadDataset(filename, split, trainingSet=[], testSet=[]):\n",
    "    with open (filename, 'r') as csvfile:\n",
    "        lines = csv.reader(csvfile)\n",
    "        dataset = list(lines)\n",
    "        for x in range(len(dataset)-1):\n",
    "            for y in range (4):\n",
    "                dataset[x][y] = (dataset[x][y])\n",
    "            if random.random()<split:\n",
    "                trainingSet.append(dataset[x])\n",
    "            else:\n",
    "                testSet.append(dataset[x])"
   ]
  },
  {
   "cell_type": "code",
   "execution_count": 12,
   "id": "f45fc68c",
   "metadata": {},
   "outputs": [
    {
     "name": "stdout",
     "output_type": "stream",
     "text": [
      "[['sepal_length', 'sepal_width', 'petal_length', 'petal_width', 'species'], ['4.7', '3.2', '1.3', '0.2', 'setosa'], ['5.0', '3.6', '1.4', '0.2', 'setosa'], ['4.6', '3.4', '1.4', '0.3', 'setosa'], ['5.0', '3.4', '1.5', '0.2', 'setosa'], ['4.4', '2.9', '1.4', '0.2', 'setosa'], ['4.9', '3.1', '1.5', '0.1', 'setosa'], ['5.4', '3.7', '1.5', '0.2', 'setosa'], ['4.8', '3.0', '1.4', '0.1', 'setosa'], ['4.3', '3.0', '1.1', '0.1', 'setosa'], ['5.8', '4.0', '1.2', '0.2', 'setosa'], ['5.4', '3.9', '1.3', '0.4', 'setosa'], ['5.1', '3.8', '1.5', '0.3', 'setosa'], ['5.1', '3.7', '1.5', '0.4', 'setosa'], ['5.1', '3.3', '1.7', '0.5', 'setosa'], ['4.8', '3.4', '1.9', '0.2', 'setosa'], ['5.0', '3.0', '1.6', '0.2', 'setosa'], ['5.0', '3.4', '1.6', '0.4', 'setosa'], ['4.7', '3.2', '1.6', '0.2', 'setosa'], ['4.8', '3.1', '1.6', '0.2', 'setosa'], ['5.2', '4.1', '1.5', '0.1', 'setosa'], ['5.5', '4.2', '1.4', '0.2', 'setosa'], ['4.9', '3.1', '1.5', '0.1', 'setosa'], ['5.5', '3.5', '1.3', '0.2', 'setosa'], ['4.9', '3.1', '1.5', '0.1', 'setosa'], ['4.4', '3.0', '1.3', '0.2', 'setosa'], ['5.1', '3.4', '1.5', '0.2', 'setosa'], ['4.4', '3.2', '1.3', '0.2', 'setosa'], ['5.0', '3.5', '1.6', '0.6', 'setosa'], ['5.1', '3.8', '1.9', '0.4', 'setosa'], ['4.8', '3.0', '1.4', '0.3', 'setosa'], ['6.9', '3.1', '4.9', '1.5', 'versicolor'], ['5.5', '2.3', '4.0', '1.3', 'versicolor'], ['6.5', '2.8', '4.6', '1.5', 'versicolor'], ['6.3', '3.3', '4.7', '1.6', 'versicolor'], ['6.6', '2.9', '4.6', '1.3', 'versicolor'], ['5.2', '2.7', '3.9', '1.4', 'versicolor'], ['5.9', '3.0', '4.2', '1.5', 'versicolor'], ['6.0', '2.2', '4.0', '1.0', 'versicolor'], ['6.1', '2.9', '4.7', '1.4', 'versicolor'], ['5.6', '2.9', '3.6', '1.3', 'versicolor'], ['6.7', '3.1', '4.4', '1.4', 'versicolor'], ['5.8', '2.7', '4.1', '1.0', 'versicolor'], ['5.6', '2.5', '3.9', '1.1', 'versicolor'], ['6.1', '2.8', '4.0', '1.3', 'versicolor'], ['6.3', '2.5', '4.9', '1.5', 'versicolor'], ['6.1', '2.8', '4.7', '1.2', 'versicolor'], ['6.6', '3.0', '4.4', '1.4', 'versicolor'], ['6.7', '3.0', '5.0', '1.7', 'versicolor'], ['6.0', '2.9', '4.5', '1.5', 'versicolor'], ['5.5', '2.4', '3.8', '1.1', 'versicolor'], ['5.5', '2.4', '3.7', '1.0', 'versicolor'], ['5.8', '2.7', '3.9', '1.2', 'versicolor'], ['6.0', '3.4', '4.5', '1.6', 'versicolor'], ['6.3', '2.3', '4.4', '1.3', 'versicolor'], ['5.6', '3.0', '4.1', '1.3', 'versicolor'], ['5.5', '2.5', '4.0', '1.3', 'versicolor'], ['5.5', '2.6', '4.4', '1.2', 'versicolor'], ['5.0', '2.3', '3.3', '1.0', 'versicolor'], ['5.6', '2.7', '4.2', '1.3', 'versicolor'], ['5.7', '3.0', '4.2', '1.2', 'versicolor'], ['5.7', '2.9', '4.2', '1.3', 'versicolor'], ['6.2', '2.9', '4.3', '1.3', 'versicolor'], ['5.7', '2.8', '4.1', '1.3', 'versicolor'], ['5.8', '2.7', '5.1', '1.9', 'virginica'], ['7.1', '3.0', '5.9', '2.1', 'virginica'], ['7.6', '3.0', '6.6', '2.1', 'virginica'], ['4.9', '2.5', '4.5', '1.7', 'virginica'], ['6.7', '2.5', '5.8', '1.8', 'virginica'], ['7.2', '3.6', '6.1', '2.5', 'virginica'], ['6.4', '2.7', '5.3', '1.9', 'virginica'], ['6.8', '3.0', '5.5', '2.1', 'virginica'], ['5.7', '2.5', '5.0', '2.0', 'virginica'], ['5.8', '2.8', '5.1', '2.4', 'virginica'], ['6.5', '3.0', '5.5', '1.8', 'virginica'], ['7.7', '3.8', '6.7', '2.2', 'virginica'], ['7.7', '2.6', '6.9', '2.3', 'virginica'], ['6.0', '2.2', '5.0', '1.5', 'virginica'], ['6.9', '3.2', '5.7', '2.3', 'virginica'], ['7.7', '2.8', '6.7', '2.0', 'virginica'], ['6.7', '3.3', '5.7', '2.1', 'virginica'], ['7.2', '3.2', '6.0', '1.8', 'virginica'], ['6.2', '2.8', '4.8', '1.8', 'virginica'], ['6.1', '3.0', '4.9', '1.8', 'virginica'], ['6.4', '2.8', '5.6', '2.1', 'virginica'], ['7.2', '3.0', '5.8', '1.6', 'virginica'], ['7.9', '3.8', '6.4', '2.0', 'virginica'], ['6.4', '2.8', '5.6', '2.2', 'virginica'], ['7.7', '3.0', '6.1', '2.3', 'virginica'], ['6.0', '3.0', '4.8', '1.8', 'virginica'], ['6.9', '3.1', '5.4', '2.1', 'virginica'], ['6.9', '3.1', '5.1', '2.3', 'virginica'], ['5.8', '2.7', '5.1', '1.9', 'virginica'], ['6.8', '3.2', '5.9', '2.3', 'virginica'], ['6.7', '3.3', '5.7', '2.5', 'virginica'], ['6.7', '3.0', '5.2', '2.3', 'virginica'], ['6.5', '3.0', '5.2', '2.0', 'virginica'], ['6.2', '3.4', '5.4', '2.3', 'virginica']]\n"
     ]
    }
   ],
   "source": [
    "trainingSet = []\n",
    "testSet = []\n",
    "loadDataset(r'iris_data.txt',0.66,trainingSet,testSet)\n",
    "print(trainingSet)"
   ]
  },
  {
   "cell_type": "code",
   "execution_count": 13,
   "id": "96f5a26a",
   "metadata": {},
   "outputs": [],
   "source": [
    "import math\n",
    "def euclideanDistance(instance1, instance2, length):\n",
    "    distance = 0\n",
    "    for x in range(length):\n",
    "        distance += pow(instance1[x] - instance2[x],2)\n",
    "    return math.sqrt(distance)"
   ]
  },
  {
   "cell_type": "code",
   "execution_count": 14,
   "id": "5530db22",
   "metadata": {},
   "outputs": [
    {
     "name": "stdout",
     "output_type": "stream",
     "text": [
      "3.4641016151377544\n"
     ]
    }
   ],
   "source": [
    "data1 = [2, 2, 2, 'a']\n",
    "data2 = [4, 4, 4, 'b']\n",
    "distance = euclideanDistance(data1, data2, 3)\n",
    "print(distance)"
   ]
  },
  {
   "cell_type": "code",
   "execution_count": 15,
   "id": "e787ca21",
   "metadata": {},
   "outputs": [],
   "source": [
    "import operator\n",
    "def getNeighbors(trainingSet, testInstance, k):\n",
    "    distance = []\n",
    "    length = len(testInstance)-1\n",
    "    for x in range(len(trainingSet)):\n",
    "        dist = euclideanDistance(testInstance, trainingSet[x], length)\n",
    "        distance.append((trainingSet[x], dist))\n",
    "    distance.sort(key=operator.itemgetter(1))\n",
    "    neighbors = []\n",
    "    for x in range(k):\n",
    "        neighbors.append(distance[x][0])\n",
    "    return neighbors"
   ]
  },
  {
   "cell_type": "code",
   "execution_count": 16,
   "id": "d73d44f6",
   "metadata": {},
   "outputs": [
    {
     "name": "stdout",
     "output_type": "stream",
     "text": [
      "[[4, 4, 4, 'b']]\n"
     ]
    }
   ],
   "source": [
    "trainSet = [[2, 2, 2, 'a'], [4, 4, 4, 'b']]\n",
    "testInstance = [5, 5, 5]\n",
    "k = 1\n",
    "neighbors = getNeighbors(trainSet, testInstance, 1)\n",
    "print(neighbors)"
   ]
  },
  {
   "cell_type": "code",
   "execution_count": 1,
   "id": "263c6c56",
   "metadata": {},
   "outputs": [],
   "source": [
    "import operator\n",
    "def getResponse(neighbors):\n",
    "    classvotes = []\n",
    "    for x in range(len(neighbors)):\n",
    "        response = neighbors[x][-1]\n",
    "        if response in classvotes:\n",
    "            classvotes[response] += 1\n",
    "        else:\n",
    "            classvotes[response] = 1\n",
    "    sortedVotes = sorted(classvotes.iteritems(), key=operator.itemgetter(1), reverse=True)\n",
    "    return sortedVotes[0][0]"
   ]
  },
  {
   "cell_type": "code",
   "execution_count": 2,
   "id": "98f08f96",
   "metadata": {},
   "outputs": [
    {
     "ename": "TypeError",
     "evalue": "list indices must be integers or slices, not str",
     "output_type": "error",
     "traceback": [
      "\u001b[1;31m---------------------------------------------------------------------------\u001b[0m",
      "\u001b[1;31mTypeError\u001b[0m                                 Traceback (most recent call last)",
      "Cell \u001b[1;32mIn[2], line 2\u001b[0m\n\u001b[0;32m      1\u001b[0m neighbors \u001b[38;5;241m=\u001b[39m [[\u001b[38;5;241m1\u001b[39m,\u001b[38;5;241m1\u001b[39m,\u001b[38;5;241m1\u001b[39m,\u001b[38;5;124m'\u001b[39m\u001b[38;5;124ma\u001b[39m\u001b[38;5;124m'\u001b[39m], [\u001b[38;5;241m2\u001b[39m,\u001b[38;5;241m2\u001b[39m,\u001b[38;5;241m2\u001b[39m,\u001b[38;5;124m'\u001b[39m\u001b[38;5;124ma\u001b[39m\u001b[38;5;124m'\u001b[39m], [\u001b[38;5;241m3\u001b[39m,\u001b[38;5;241m3\u001b[39m,\u001b[38;5;241m3\u001b[39m,\u001b[38;5;124m'\u001b[39m\u001b[38;5;124mb\u001b[39m\u001b[38;5;124m'\u001b[39m]]\n\u001b[1;32m----> 2\u001b[0m \u001b[38;5;28mprint\u001b[39m(\u001b[43mgetResponse\u001b[49m\u001b[43m(\u001b[49m\u001b[43mneighbors\u001b[49m\u001b[43m)\u001b[49m)\n",
      "Cell \u001b[1;32mIn[1], line 9\u001b[0m, in \u001b[0;36mgetResponse\u001b[1;34m(neighbors)\u001b[0m\n\u001b[0;32m      7\u001b[0m         classvotes[response] \u001b[38;5;241m+\u001b[39m\u001b[38;5;241m=\u001b[39m \u001b[38;5;241m1\u001b[39m\n\u001b[0;32m      8\u001b[0m     \u001b[38;5;28;01melse\u001b[39;00m:\n\u001b[1;32m----> 9\u001b[0m         \u001b[43mclassvotes\u001b[49m\u001b[43m[\u001b[49m\u001b[43mresponse\u001b[49m\u001b[43m]\u001b[49m \u001b[38;5;241m=\u001b[39m \u001b[38;5;241m1\u001b[39m\n\u001b[0;32m     10\u001b[0m sortedVotes \u001b[38;5;241m=\u001b[39m \u001b[38;5;28msorted\u001b[39m(classvotes\u001b[38;5;241m.\u001b[39miteritems(), key\u001b[38;5;241m=\u001b[39moperator\u001b[38;5;241m.\u001b[39mitemgetter(\u001b[38;5;241m1\u001b[39m), reverse\u001b[38;5;241m=\u001b[39m\u001b[38;5;28;01mTrue\u001b[39;00m)\n\u001b[0;32m     11\u001b[0m \u001b[38;5;28;01mreturn\u001b[39;00m sortedVotes[\u001b[38;5;241m0\u001b[39m][\u001b[38;5;241m0\u001b[39m]\n",
      "\u001b[1;31mTypeError\u001b[0m: list indices must be integers or slices, not str"
     ]
    }
   ],
   "source": [
    "neighbors = [[1,1,1,'a'], [2,2,2,'a'], [3,3,3,'b']]\n",
    "print(getResponse(neighbors))"
   ]
  },
  {
   "cell_type": "code",
   "execution_count": 3,
   "id": "2df37aa2",
   "metadata": {},
   "outputs": [],
   "source": [
    "def getAccuracy(testSet, predictions):\n",
    "    correct = 0\n",
    "    for x in range(len(testSet)):\n",
    "        if testSet[x][-1] is predictions[x]:\n",
    "            correct += 1\n",
    "    return (correct/float(len(testSet))) * 100"
   ]
  },
  {
   "cell_type": "code",
   "execution_count": 4,
   "id": "209e1776",
   "metadata": {},
   "outputs": [
    {
     "name": "stdout",
     "output_type": "stream",
     "text": [
      "66.66666666666666\n"
     ]
    }
   ],
   "source": [
    "testSet = [[1,1,1,'a'], [2,2,2,'a'], [3,3,3,'b']]\n",
    "predictions = ['a','a','a']\n",
    "accuracy = getAccuracy(testSet, predictions)\n",
    "print(accuracy)"
   ]
  },
  {
   "cell_type": "code",
   "execution_count": null,
   "id": "5d17f356",
   "metadata": {},
   "outputs": [],
   "source": []
  }
 ],
 "metadata": {
  "kernelspec": {
   "display_name": "Python 3 (ipykernel)",
   "language": "python",
   "name": "python3"
  },
  "language_info": {
   "codemirror_mode": {
    "name": "ipython",
    "version": 3
   },
   "file_extension": ".py",
   "mimetype": "text/x-python",
   "name": "python",
   "nbconvert_exporter": "python",
   "pygments_lexer": "ipython3",
   "version": "3.10.4"
  }
 },
 "nbformat": 4,
 "nbformat_minor": 5
}
